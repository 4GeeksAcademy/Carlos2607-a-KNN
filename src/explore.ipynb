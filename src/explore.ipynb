{
    "cells": [
        {
            "cell_type": "markdown",
            "metadata": {},
            "source": [
                "## En el siguiente conjunto de datos, esperamos poder predecir qué películas podrían ser o no un éxito comercial, este conjunto de datos recopila parte del conocimiento de la API TMDB, que contiene solo 5000 películas del número total."
            ]
        },
        {
            "cell_type": "code",
            "execution_count": 1,
            "metadata": {},
            "outputs": [],
            "source": [
                "import pandas as pd \n",
                "import numpy as np\n",
                "import sqlite3\n",
                "import json\n",
                "from pickle import dump\n",
                "from sklearn.feature_extraction.text import TfidfVectorizer\n",
                "from sklearn.neighbors import NearestNeighbors\n",
                "from sklearn.metrics.pairwise import cosine_similarity"
            ]
        },
        {
            "cell_type": "markdown",
            "metadata": {},
            "source": [
                "Separamos los datos en dos Datasets, una para tener la información de las peliculas, el segundo para tener informacion de los creditos."
            ]
        },
        {
            "cell_type": "code",
            "execution_count": 2,
            "metadata": {},
            "outputs": [],
            "source": [
                "movies = pd.read_csv(\"https://raw.githubusercontent.com/4GeeksAcademy/k-nearest-neighbors-project-tutorial/main/tmdb_5000_movies.csv\")\n",
                "credits = pd.read_csv(\"https://raw.githubusercontent.com/4GeeksAcademy/k-nearest-neighbors-project-tutorial/main/tmdb_5000_credits.csv\")"
            ]
        },
        {
            "cell_type": "markdown",
            "metadata": {},
            "source": [
                "### Conectamos a una base de datos SQL y creamos dos tablas con los dos Datasets."
            ]
        },
        {
            "cell_type": "code",
            "execution_count": 3,
            "metadata": {},
            "outputs": [],
            "source": [
                "conn = sqlite3.connect(\"../data/movies_database.db\")"
            ]
        },
        {
            "cell_type": "code",
            "execution_count": 4,
            "metadata": {},
            "outputs": [
                {
                    "data": {
                        "text/plain": [
                            "4803"
                        ]
                    },
                    "execution_count": 4,
                    "metadata": {},
                    "output_type": "execute_result"
                }
            ],
            "source": [
                "movies.to_sql(\"movies_table\", conn, if_exists = \"replace\", index = False)\n",
                "credits.to_sql(\"credits_table\", conn, if_exists = \"replace\", index = False)"
            ]
        },
        {
            "cell_type": "markdown",
            "metadata": {},
            "source": [
                "Creamos un solo Dataset, concatenando la informacion de las dos tablas donde tengan en comun el mismo titulo.\n"
            ]
        },
        {
            "cell_type": "code",
            "execution_count": 5,
            "metadata": {},
            "outputs": [],
            "source": [
                "query = \"\"\"\n",
                "    SELECT *\n",
                "    FROM movies_table\n",
                "    INNER JOIN credits_table\n",
                "    ON movies_table.title = credits_table.title;\n",
                "\"\"\"\n",
                "\n",
                "total_data = pd.read_sql_query(query, conn)\n",
                "conn.close()\n",
                "\n",
                "total_data = total_data.loc[:, ~total_data.columns.duplicated()]"
            ]
        },
        {
            "cell_type": "code",
            "execution_count": 6,
            "metadata": {},
            "outputs": [
                {
                    "data": {
                        "text/html": [
                            "<div>\n",
                            "<style scoped>\n",
                            "    .dataframe tbody tr th:only-of-type {\n",
                            "        vertical-align: middle;\n",
                            "    }\n",
                            "\n",
                            "    .dataframe tbody tr th {\n",
                            "        vertical-align: top;\n",
                            "    }\n",
                            "\n",
                            "    .dataframe thead th {\n",
                            "        text-align: right;\n",
                            "    }\n",
                            "</style>\n",
                            "<table border=\"1\" class=\"dataframe\">\n",
                            "  <thead>\n",
                            "    <tr style=\"text-align: right;\">\n",
                            "      <th></th>\n",
                            "      <th>budget</th>\n",
                            "      <th>genres</th>\n",
                            "      <th>homepage</th>\n",
                            "      <th>id</th>\n",
                            "      <th>keywords</th>\n",
                            "      <th>original_language</th>\n",
                            "      <th>original_title</th>\n",
                            "      <th>overview</th>\n",
                            "      <th>popularity</th>\n",
                            "      <th>production_companies</th>\n",
                            "      <th>...</th>\n",
                            "      <th>runtime</th>\n",
                            "      <th>spoken_languages</th>\n",
                            "      <th>status</th>\n",
                            "      <th>tagline</th>\n",
                            "      <th>title</th>\n",
                            "      <th>vote_average</th>\n",
                            "      <th>vote_count</th>\n",
                            "      <th>movie_id</th>\n",
                            "      <th>cast</th>\n",
                            "      <th>crew</th>\n",
                            "    </tr>\n",
                            "  </thead>\n",
                            "  <tbody>\n",
                            "    <tr>\n",
                            "      <th>0</th>\n",
                            "      <td>237000000</td>\n",
                            "      <td>[{\"id\": 28, \"name\": \"Action\"}, {\"id\": 12, \"nam...</td>\n",
                            "      <td>http://www.avatarmovie.com/</td>\n",
                            "      <td>19995</td>\n",
                            "      <td>[{\"id\": 1463, \"name\": \"culture clash\"}, {\"id\":...</td>\n",
                            "      <td>en</td>\n",
                            "      <td>Avatar</td>\n",
                            "      <td>In the 22nd century, a paraplegic Marine is di...</td>\n",
                            "      <td>150.437577</td>\n",
                            "      <td>[{\"name\": \"Ingenious Film Partners\", \"id\": 289...</td>\n",
                            "      <td>...</td>\n",
                            "      <td>162.0</td>\n",
                            "      <td>[{\"iso_639_1\": \"en\", \"name\": \"English\"}, {\"iso...</td>\n",
                            "      <td>Released</td>\n",
                            "      <td>Enter the World of Pandora.</td>\n",
                            "      <td>Avatar</td>\n",
                            "      <td>7.2</td>\n",
                            "      <td>11800</td>\n",
                            "      <td>19995</td>\n",
                            "      <td>[{\"cast_id\": 242, \"character\": \"Jake Sully\", \"...</td>\n",
                            "      <td>[{\"credit_id\": \"52fe48009251416c750aca23\", \"de...</td>\n",
                            "    </tr>\n",
                            "    <tr>\n",
                            "      <th>1</th>\n",
                            "      <td>300000000</td>\n",
                            "      <td>[{\"id\": 12, \"name\": \"Adventure\"}, {\"id\": 14, \"...</td>\n",
                            "      <td>http://disney.go.com/disneypictures/pirates/</td>\n",
                            "      <td>285</td>\n",
                            "      <td>[{\"id\": 270, \"name\": \"ocean\"}, {\"id\": 726, \"na...</td>\n",
                            "      <td>en</td>\n",
                            "      <td>Pirates of the Caribbean: At World's End</td>\n",
                            "      <td>Captain Barbossa, long believed to be dead, ha...</td>\n",
                            "      <td>139.082615</td>\n",
                            "      <td>[{\"name\": \"Walt Disney Pictures\", \"id\": 2}, {\"...</td>\n",
                            "      <td>...</td>\n",
                            "      <td>169.0</td>\n",
                            "      <td>[{\"iso_639_1\": \"en\", \"name\": \"English\"}]</td>\n",
                            "      <td>Released</td>\n",
                            "      <td>At the end of the world, the adventure begins.</td>\n",
                            "      <td>Pirates of the Caribbean: At World's End</td>\n",
                            "      <td>6.9</td>\n",
                            "      <td>4500</td>\n",
                            "      <td>285</td>\n",
                            "      <td>[{\"cast_id\": 4, \"character\": \"Captain Jack Spa...</td>\n",
                            "      <td>[{\"credit_id\": \"52fe4232c3a36847f800b579\", \"de...</td>\n",
                            "    </tr>\n",
                            "  </tbody>\n",
                            "</table>\n",
                            "<p>2 rows × 23 columns</p>\n",
                            "</div>"
                        ],
                        "text/plain": [
                            "      budget                                             genres  \\\n",
                            "0  237000000  [{\"id\": 28, \"name\": \"Action\"}, {\"id\": 12, \"nam...   \n",
                            "1  300000000  [{\"id\": 12, \"name\": \"Adventure\"}, {\"id\": 14, \"...   \n",
                            "\n",
                            "                                       homepage     id  \\\n",
                            "0                   http://www.avatarmovie.com/  19995   \n",
                            "1  http://disney.go.com/disneypictures/pirates/    285   \n",
                            "\n",
                            "                                            keywords original_language  \\\n",
                            "0  [{\"id\": 1463, \"name\": \"culture clash\"}, {\"id\":...                en   \n",
                            "1  [{\"id\": 270, \"name\": \"ocean\"}, {\"id\": 726, \"na...                en   \n",
                            "\n",
                            "                             original_title  \\\n",
                            "0                                    Avatar   \n",
                            "1  Pirates of the Caribbean: At World's End   \n",
                            "\n",
                            "                                            overview  popularity  \\\n",
                            "0  In the 22nd century, a paraplegic Marine is di...  150.437577   \n",
                            "1  Captain Barbossa, long believed to be dead, ha...  139.082615   \n",
                            "\n",
                            "                                production_companies  ... runtime  \\\n",
                            "0  [{\"name\": \"Ingenious Film Partners\", \"id\": 289...  ...   162.0   \n",
                            "1  [{\"name\": \"Walt Disney Pictures\", \"id\": 2}, {\"...  ...   169.0   \n",
                            "\n",
                            "                                    spoken_languages    status  \\\n",
                            "0  [{\"iso_639_1\": \"en\", \"name\": \"English\"}, {\"iso...  Released   \n",
                            "1           [{\"iso_639_1\": \"en\", \"name\": \"English\"}]  Released   \n",
                            "\n",
                            "                                          tagline  \\\n",
                            "0                     Enter the World of Pandora.   \n",
                            "1  At the end of the world, the adventure begins.   \n",
                            "\n",
                            "                                      title vote_average vote_count movie_id  \\\n",
                            "0                                    Avatar          7.2      11800    19995   \n",
                            "1  Pirates of the Caribbean: At World's End          6.9       4500      285   \n",
                            "\n",
                            "                                                cast  \\\n",
                            "0  [{\"cast_id\": 242, \"character\": \"Jake Sully\", \"...   \n",
                            "1  [{\"cast_id\": 4, \"character\": \"Captain Jack Spa...   \n",
                            "\n",
                            "                                                crew  \n",
                            "0  [{\"credit_id\": \"52fe48009251416c750aca23\", \"de...  \n",
                            "1  [{\"credit_id\": \"52fe4232c3a36847f800b579\", \"de...  \n",
                            "\n",
                            "[2 rows x 23 columns]"
                        ]
                    },
                    "execution_count": 6,
                    "metadata": {},
                    "output_type": "execute_result"
                }
            ],
            "source": [
                "total_data.head(2)"
            ]
        },
        {
            "cell_type": "markdown",
            "metadata": {},
            "source": [
                "#### Procedemos a seleccionar las columnas de mayor importancia y con las que trabajaremos para la predicción."
            ]
        },
        {
            "cell_type": "code",
            "execution_count": 7,
            "metadata": {},
            "outputs": [],
            "source": [
                "data_limpia = total_data[['movie_id', 'title', 'overview', 'genres', 'keywords', 'cast', 'crew']].copy()"
            ]
        },
        {
            "cell_type": "code",
            "execution_count": 8,
            "metadata": {},
            "outputs": [],
            "source": [
                "#Funcion para convertir texto json\n",
                "def load_json_safe(json_str, default_value = None):\n",
                "    try:\n",
                "        return json.loads(json_str)\n",
                "    except (TypeError, json.JSONDecodeError):\n",
                "        return default_value"
            ]
        },
        {
            "cell_type": "code",
            "execution_count": 9,
            "metadata": {},
            "outputs": [],
            "source": [
                "# Transformar las columnas 'genres' y 'keywords'\n",
                "data_limpia['genres'] = data_limpia['genres'].apply(lambda x: [item[\"name\"].replace(\" \", \"\") for item in load_json_safe(x)] if x else None)\n",
                "data_limpia['keywords'] = data_limpia['keywords'].apply(lambda x: [item[\"name\"].replace(\" \", \"\") for item in load_json_safe(x)] if x else None)\n",
                "# Transformar la columna 'cast'\n",
                "data_limpia['cast'] = data_limpia['cast'].apply(lambda x: [item[\"name\"].replace(\" \", \"\") for item in load_json_safe(x)][:3] if x else None)\n",
                "# Transformar la columna 'crew' para obtener el nombre del director\n",
                "def get_director(crew_data):\n",
                "    for crew_member in crew_data:\n",
                "        if crew_member['job'] == 'Director':\n",
                "            return crew_member['name'].replace(\" \", \"\")\n",
                "    return None\n",
                "data_limpia['crew'] = data_limpia['crew'].apply(lambda x: get_director(load_json_safe(x)) if x else None)\n",
                "# Transformar la columna 'overview' en una lista\n",
                "data_limpia['overview'] = data_limpia['overview'].apply(lambda x: [x] if x else None)"
            ]
        },
        {
            "cell_type": "markdown",
            "metadata": {},
            "source": [
                "Procedemos a guardar el Datasets con la informacion en limpio."
            ]
        },
        {
            "cell_type": "code",
            "execution_count": 10,
            "metadata": {},
            "outputs": [
                {
                    "data": {
                        "text/html": [
                            "<div>\n",
                            "<style scoped>\n",
                            "    .dataframe tbody tr th:only-of-type {\n",
                            "        vertical-align: middle;\n",
                            "    }\n",
                            "\n",
                            "    .dataframe tbody tr th {\n",
                            "        vertical-align: top;\n",
                            "    }\n",
                            "\n",
                            "    .dataframe thead th {\n",
                            "        text-align: right;\n",
                            "    }\n",
                            "</style>\n",
                            "<table border=\"1\" class=\"dataframe\">\n",
                            "  <thead>\n",
                            "    <tr style=\"text-align: right;\">\n",
                            "      <th></th>\n",
                            "      <th>movie_id</th>\n",
                            "      <th>title</th>\n",
                            "      <th>overview</th>\n",
                            "      <th>genres</th>\n",
                            "      <th>keywords</th>\n",
                            "      <th>cast</th>\n",
                            "      <th>crew</th>\n",
                            "    </tr>\n",
                            "  </thead>\n",
                            "  <tbody>\n",
                            "    <tr>\n",
                            "      <th>0</th>\n",
                            "      <td>19995</td>\n",
                            "      <td>Avatar</td>\n",
                            "      <td>[In the 22nd century, a paraplegic Marine is d...</td>\n",
                            "      <td>[Action, Adventure, Fantasy, ScienceFiction]</td>\n",
                            "      <td>[cultureclash, future, spacewar, spacecolony, ...</td>\n",
                            "      <td>[SamWorthington, ZoeSaldana, SigourneyWeaver]</td>\n",
                            "      <td>JamesCameron</td>\n",
                            "    </tr>\n",
                            "    <tr>\n",
                            "      <th>1</th>\n",
                            "      <td>285</td>\n",
                            "      <td>Pirates of the Caribbean: At World's End</td>\n",
                            "      <td>[Captain Barbossa, long believed to be dead, h...</td>\n",
                            "      <td>[Adventure, Fantasy, Action]</td>\n",
                            "      <td>[ocean, drugabuse, exoticisland, eastindiatrad...</td>\n",
                            "      <td>[JohnnyDepp, OrlandoBloom, KeiraKnightley]</td>\n",
                            "      <td>GoreVerbinski</td>\n",
                            "    </tr>\n",
                            "    <tr>\n",
                            "      <th>2</th>\n",
                            "      <td>206647</td>\n",
                            "      <td>Spectre</td>\n",
                            "      <td>[A cryptic message from Bond’s past sends him ...</td>\n",
                            "      <td>[Action, Adventure, Crime]</td>\n",
                            "      <td>[spy, basedonnovel, secretagent, sequel, mi6, ...</td>\n",
                            "      <td>[DanielCraig, ChristophWaltz, LéaSeydoux]</td>\n",
                            "      <td>SamMendes</td>\n",
                            "    </tr>\n",
                            "    <tr>\n",
                            "      <th>3</th>\n",
                            "      <td>49026</td>\n",
                            "      <td>The Dark Knight Rises</td>\n",
                            "      <td>[Following the death of District Attorney Harv...</td>\n",
                            "      <td>[Action, Crime, Drama, Thriller]</td>\n",
                            "      <td>[dccomics, crimefighter, terrorist, secretiden...</td>\n",
                            "      <td>[ChristianBale, MichaelCaine, GaryOldman]</td>\n",
                            "      <td>ChristopherNolan</td>\n",
                            "    </tr>\n",
                            "    <tr>\n",
                            "      <th>4</th>\n",
                            "      <td>49529</td>\n",
                            "      <td>John Carter</td>\n",
                            "      <td>[John Carter is a war-weary, former military c...</td>\n",
                            "      <td>[Action, Adventure, ScienceFiction]</td>\n",
                            "      <td>[basedonnovel, mars, medallion, spacetravel, p...</td>\n",
                            "      <td>[TaylorKitsch, LynnCollins, SamanthaMorton]</td>\n",
                            "      <td>AndrewStanton</td>\n",
                            "    </tr>\n",
                            "    <tr>\n",
                            "      <th>...</th>\n",
                            "      <td>...</td>\n",
                            "      <td>...</td>\n",
                            "      <td>...</td>\n",
                            "      <td>...</td>\n",
                            "      <td>...</td>\n",
                            "      <td>...</td>\n",
                            "      <td>...</td>\n",
                            "    </tr>\n",
                            "    <tr>\n",
                            "      <th>4804</th>\n",
                            "      <td>9367</td>\n",
                            "      <td>El Mariachi</td>\n",
                            "      <td>[El Mariachi just wants to play his guitar and...</td>\n",
                            "      <td>[Action, Crime, Thriller]</td>\n",
                            "      <td>[unitedstates–mexicobarrier, legs, arms, paper...</td>\n",
                            "      <td>[CarlosGallardo, JaimedeHoyos, PeterMarquardt]</td>\n",
                            "      <td>RobertRodriguez</td>\n",
                            "    </tr>\n",
                            "    <tr>\n",
                            "      <th>4805</th>\n",
                            "      <td>72766</td>\n",
                            "      <td>Newlyweds</td>\n",
                            "      <td>[A newlywed couple's honeymoon is upended by t...</td>\n",
                            "      <td>[Comedy, Romance]</td>\n",
                            "      <td>[]</td>\n",
                            "      <td>[EdwardBurns, KerryBishé, MarshaDietlein]</td>\n",
                            "      <td>EdwardBurns</td>\n",
                            "    </tr>\n",
                            "    <tr>\n",
                            "      <th>4806</th>\n",
                            "      <td>231617</td>\n",
                            "      <td>Signed, Sealed, Delivered</td>\n",
                            "      <td>[\"Signed, Sealed, Delivered\" introduces a dedi...</td>\n",
                            "      <td>[Comedy, Drama, Romance, TVMovie]</td>\n",
                            "      <td>[date, loveatfirstsight, narration, investigat...</td>\n",
                            "      <td>[EricMabius, KristinBooth, CrystalLowe]</td>\n",
                            "      <td>ScottSmith</td>\n",
                            "    </tr>\n",
                            "    <tr>\n",
                            "      <th>4807</th>\n",
                            "      <td>126186</td>\n",
                            "      <td>Shanghai Calling</td>\n",
                            "      <td>[When ambitious New York attorney Sam is sent ...</td>\n",
                            "      <td>[]</td>\n",
                            "      <td>[]</td>\n",
                            "      <td>[DanielHenney, ElizaCoupe, BillPaxton]</td>\n",
                            "      <td>DanielHsia</td>\n",
                            "    </tr>\n",
                            "    <tr>\n",
                            "      <th>4808</th>\n",
                            "      <td>25975</td>\n",
                            "      <td>My Date with Drew</td>\n",
                            "      <td>[Ever since the second grade when he first saw...</td>\n",
                            "      <td>[Documentary]</td>\n",
                            "      <td>[obsession, camcorder, crush, dreamgirl]</td>\n",
                            "      <td>[DrewBarrymore, BrianHerzlinger, CoreyFeldman]</td>\n",
                            "      <td>BrianHerzlinger</td>\n",
                            "    </tr>\n",
                            "  </tbody>\n",
                            "</table>\n",
                            "<p>4809 rows × 7 columns</p>\n",
                            "</div>"
                        ],
                        "text/plain": [
                            "      movie_id                                     title  \\\n",
                            "0        19995                                    Avatar   \n",
                            "1          285  Pirates of the Caribbean: At World's End   \n",
                            "2       206647                                   Spectre   \n",
                            "3        49026                     The Dark Knight Rises   \n",
                            "4        49529                               John Carter   \n",
                            "...        ...                                       ...   \n",
                            "4804      9367                               El Mariachi   \n",
                            "4805     72766                                 Newlyweds   \n",
                            "4806    231617                 Signed, Sealed, Delivered   \n",
                            "4807    126186                          Shanghai Calling   \n",
                            "4808     25975                         My Date with Drew   \n",
                            "\n",
                            "                                               overview  \\\n",
                            "0     [In the 22nd century, a paraplegic Marine is d...   \n",
                            "1     [Captain Barbossa, long believed to be dead, h...   \n",
                            "2     [A cryptic message from Bond’s past sends him ...   \n",
                            "3     [Following the death of District Attorney Harv...   \n",
                            "4     [John Carter is a war-weary, former military c...   \n",
                            "...                                                 ...   \n",
                            "4804  [El Mariachi just wants to play his guitar and...   \n",
                            "4805  [A newlywed couple's honeymoon is upended by t...   \n",
                            "4806  [\"Signed, Sealed, Delivered\" introduces a dedi...   \n",
                            "4807  [When ambitious New York attorney Sam is sent ...   \n",
                            "4808  [Ever since the second grade when he first saw...   \n",
                            "\n",
                            "                                            genres  \\\n",
                            "0     [Action, Adventure, Fantasy, ScienceFiction]   \n",
                            "1                     [Adventure, Fantasy, Action]   \n",
                            "2                       [Action, Adventure, Crime]   \n",
                            "3                 [Action, Crime, Drama, Thriller]   \n",
                            "4              [Action, Adventure, ScienceFiction]   \n",
                            "...                                            ...   \n",
                            "4804                     [Action, Crime, Thriller]   \n",
                            "4805                             [Comedy, Romance]   \n",
                            "4806             [Comedy, Drama, Romance, TVMovie]   \n",
                            "4807                                            []   \n",
                            "4808                                 [Documentary]   \n",
                            "\n",
                            "                                               keywords  \\\n",
                            "0     [cultureclash, future, spacewar, spacecolony, ...   \n",
                            "1     [ocean, drugabuse, exoticisland, eastindiatrad...   \n",
                            "2     [spy, basedonnovel, secretagent, sequel, mi6, ...   \n",
                            "3     [dccomics, crimefighter, terrorist, secretiden...   \n",
                            "4     [basedonnovel, mars, medallion, spacetravel, p...   \n",
                            "...                                                 ...   \n",
                            "4804  [unitedstates–mexicobarrier, legs, arms, paper...   \n",
                            "4805                                                 []   \n",
                            "4806  [date, loveatfirstsight, narration, investigat...   \n",
                            "4807                                                 []   \n",
                            "4808           [obsession, camcorder, crush, dreamgirl]   \n",
                            "\n",
                            "                                                cast              crew  \n",
                            "0      [SamWorthington, ZoeSaldana, SigourneyWeaver]      JamesCameron  \n",
                            "1         [JohnnyDepp, OrlandoBloom, KeiraKnightley]     GoreVerbinski  \n",
                            "2          [DanielCraig, ChristophWaltz, LéaSeydoux]         SamMendes  \n",
                            "3          [ChristianBale, MichaelCaine, GaryOldman]  ChristopherNolan  \n",
                            "4        [TaylorKitsch, LynnCollins, SamanthaMorton]     AndrewStanton  \n",
                            "...                                              ...               ...  \n",
                            "4804  [CarlosGallardo, JaimedeHoyos, PeterMarquardt]   RobertRodriguez  \n",
                            "4805       [EdwardBurns, KerryBishé, MarshaDietlein]       EdwardBurns  \n",
                            "4806         [EricMabius, KristinBooth, CrystalLowe]        ScottSmith  \n",
                            "4807          [DanielHenney, ElizaCoupe, BillPaxton]        DanielHsia  \n",
                            "4808  [DrewBarrymore, BrianHerzlinger, CoreyFeldman]   BrianHerzlinger  \n",
                            "\n",
                            "[4809 rows x 7 columns]"
                        ]
                    },
                    "execution_count": 10,
                    "metadata": {},
                    "output_type": "execute_result"
                }
            ],
            "source": [
                "data_limpia.to_csv(\"/workspaces/Carlos2607-a-KNN/data/processed/data_limpia.csv\")\n",
                "data_limpia.head(2)"
            ]
        },
        {
            "cell_type": "markdown",
            "metadata": {},
            "source": [
                "Guardamos en nuestra tabla de SQL la base de datos limpia para poder trabajar con ella mas adelante."
            ]
        },
        {
            "cell_type": "code",
            "execution_count": 11,
            "metadata": {},
            "outputs": [
                {
                    "data": {
                        "text/plain": [
                            "4803"
                        ]
                    },
                    "execution_count": 11,
                    "metadata": {},
                    "output_type": "execute_result"
                }
            ],
            "source": [
                "conn = sqlite3.connect(\"../data/movies_database.db\")\n",
                "\n",
                "movies.to_sql(\"clean_movies_data\", conn, if_exists = \"replace\", index = False)"
            ]
        },
        {
            "cell_type": "markdown",
            "metadata": {},
            "source": [
                "Con dicha función podemos concatenar todas las columnas separadas entre ells con un espacio, creando asi por cada fila, un texto completo."
            ]
        },
        {
            "cell_type": "code",
            "execution_count": 12,
            "metadata": {},
            "outputs": [],
            "source": [
                "def list_to_string(lst):\n",
                "    return ' '.join(lst) if lst else ''\n",
                "# Aplicar la conversión en cada columna y luego unirlas\n",
                "data_limpia['tags'] = data_limpia.apply(lambda x: ' '.join(list_to_string(x[col]) for col in ['genres', 'keywords', 'cast', 'crew', 'overview']), axis=1)\n"
            ]
        },
        {
            "cell_type": "code",
            "execution_count": 13,
            "metadata": {},
            "outputs": [
                {
                    "data": {
                        "text/plain": [
                            "'Action Adventure Fantasy ScienceFiction cultureclash future spacewar spacecolony society spacetravel futuristic romance space alien tribe alienplanet cgi marine soldier battle loveaffair antiwar powerrelations mindandsoul 3d SamWorthington ZoeSaldana SigourneyWeaver J a m e s C a m e r o n In the 22nd century, a paraplegic Marine is dispatched to the moon Pandora on a unique mission, but becomes torn between following orders and protecting an alien civilization.'"
                        ]
                    },
                    "execution_count": 13,
                    "metadata": {},
                    "output_type": "execute_result"
                }
            ],
            "source": [
                "data_limpia.iloc[0].tags"
            ]
        },
        {
            "cell_type": "markdown",
            "metadata": {},
            "source": [
                "Vectorizamos la data para poder procesarla y trabajar con ella."
            ]
        },
        {
            "cell_type": "code",
            "execution_count": 14,
            "metadata": {},
            "outputs": [],
            "source": [
                "vectorizer = TfidfVectorizer()\n",
                "tfidf_matrix = vectorizer.fit_transform(data_limpia[\"tags\"])"
            ]
        },
        {
            "cell_type": "code",
            "execution_count": 15,
            "metadata": {},
            "outputs": [
                {
                    "data": {
                        "text/html": [
                            "<style>#sk-container-id-1 {color: black;}#sk-container-id-1 pre{padding: 0;}#sk-container-id-1 div.sk-toggleable {background-color: white;}#sk-container-id-1 label.sk-toggleable__label {cursor: pointer;display: block;width: 100%;margin-bottom: 0;padding: 0.3em;box-sizing: border-box;text-align: center;}#sk-container-id-1 label.sk-toggleable__label-arrow:before {content: \"▸\";float: left;margin-right: 0.25em;color: #696969;}#sk-container-id-1 label.sk-toggleable__label-arrow:hover:before {color: black;}#sk-container-id-1 div.sk-estimator:hover label.sk-toggleable__label-arrow:before {color: black;}#sk-container-id-1 div.sk-toggleable__content {max-height: 0;max-width: 0;overflow: hidden;text-align: left;background-color: #f0f8ff;}#sk-container-id-1 div.sk-toggleable__content pre {margin: 0.2em;color: black;border-radius: 0.25em;background-color: #f0f8ff;}#sk-container-id-1 input.sk-toggleable__control:checked~div.sk-toggleable__content {max-height: 200px;max-width: 100%;overflow: auto;}#sk-container-id-1 input.sk-toggleable__control:checked~label.sk-toggleable__label-arrow:before {content: \"▾\";}#sk-container-id-1 div.sk-estimator input.sk-toggleable__control:checked~label.sk-toggleable__label {background-color: #d4ebff;}#sk-container-id-1 div.sk-label input.sk-toggleable__control:checked~label.sk-toggleable__label {background-color: #d4ebff;}#sk-container-id-1 input.sk-hidden--visually {border: 0;clip: rect(1px 1px 1px 1px);clip: rect(1px, 1px, 1px, 1px);height: 1px;margin: -1px;overflow: hidden;padding: 0;position: absolute;width: 1px;}#sk-container-id-1 div.sk-estimator {font-family: monospace;background-color: #f0f8ff;border: 1px dotted black;border-radius: 0.25em;box-sizing: border-box;margin-bottom: 0.5em;}#sk-container-id-1 div.sk-estimator:hover {background-color: #d4ebff;}#sk-container-id-1 div.sk-parallel-item::after {content: \"\";width: 100%;border-bottom: 1px solid gray;flex-grow: 1;}#sk-container-id-1 div.sk-label:hover label.sk-toggleable__label {background-color: #d4ebff;}#sk-container-id-1 div.sk-serial::before {content: \"\";position: absolute;border-left: 1px solid gray;box-sizing: border-box;top: 0;bottom: 0;left: 50%;z-index: 0;}#sk-container-id-1 div.sk-serial {display: flex;flex-direction: column;align-items: center;background-color: white;padding-right: 0.2em;padding-left: 0.2em;position: relative;}#sk-container-id-1 div.sk-item {position: relative;z-index: 1;}#sk-container-id-1 div.sk-parallel {display: flex;align-items: stretch;justify-content: center;background-color: white;position: relative;}#sk-container-id-1 div.sk-item::before, #sk-container-id-1 div.sk-parallel-item::before {content: \"\";position: absolute;border-left: 1px solid gray;box-sizing: border-box;top: 0;bottom: 0;left: 50%;z-index: -1;}#sk-container-id-1 div.sk-parallel-item {display: flex;flex-direction: column;z-index: 1;position: relative;background-color: white;}#sk-container-id-1 div.sk-parallel-item:first-child::after {align-self: flex-end;width: 50%;}#sk-container-id-1 div.sk-parallel-item:last-child::after {align-self: flex-start;width: 50%;}#sk-container-id-1 div.sk-parallel-item:only-child::after {width: 0;}#sk-container-id-1 div.sk-dashed-wrapped {border: 1px dashed gray;margin: 0 0.4em 0.5em 0.4em;box-sizing: border-box;padding-bottom: 0.4em;background-color: white;}#sk-container-id-1 div.sk-label label {font-family: monospace;font-weight: bold;display: inline-block;line-height: 1.2em;}#sk-container-id-1 div.sk-label-container {text-align: center;}#sk-container-id-1 div.sk-container {/* jupyter's `normalize.less` sets `[hidden] { display: none; }` but bootstrap.min.css set `[hidden] { display: none !important; }` so we also need the `!important` here to be able to override the default hidden behavior on the sphinx rendered scikit-learn.org. See: https://github.com/scikit-learn/scikit-learn/issues/21755 */display: inline-block !important;position: relative;}#sk-container-id-1 div.sk-text-repr-fallback {display: none;}</style><div id=\"sk-container-id-1\" class=\"sk-top-container\"><div class=\"sk-text-repr-fallback\"><pre>NearestNeighbors(algorithm=&#x27;brute&#x27;, metric=&#x27;cosine&#x27;, n_neighbors=6)</pre><b>In a Jupyter environment, please rerun this cell to show the HTML representation or trust the notebook. <br />On GitHub, the HTML representation is unable to render, please try loading this page with nbviewer.org.</b></div><div class=\"sk-container\" hidden><div class=\"sk-item\"><div class=\"sk-estimator sk-toggleable\"><input class=\"sk-toggleable__control sk-hidden--visually\" id=\"sk-estimator-id-1\" type=\"checkbox\" checked><label for=\"sk-estimator-id-1\" class=\"sk-toggleable__label sk-toggleable__label-arrow\">NearestNeighbors</label><div class=\"sk-toggleable__content\"><pre>NearestNeighbors(algorithm=&#x27;brute&#x27;, metric=&#x27;cosine&#x27;, n_neighbors=6)</pre></div></div></div></div></div>"
                        ],
                        "text/plain": [
                            "NearestNeighbors(algorithm='brute', metric='cosine', n_neighbors=6)"
                        ]
                    },
                    "execution_count": 15,
                    "metadata": {},
                    "output_type": "execute_result"
                }
            ],
            "source": [
                "model = NearestNeighbors(n_neighbors = 6, algorithm = \"brute\", metric = \"cosine\")\n",
                "model.fit(tfidf_matrix)"
            ]
        },
        {
            "cell_type": "code",
            "execution_count": 16,
            "metadata": {},
            "outputs": [
                {
                    "name": "stdout",
                    "output_type": "stream",
                    "text": [
                        "Film recommendations 'The Dark Knight Rises'\n",
                        "- Film: The Dark Knight\n",
                        "- Film: Batman Returns\n",
                        "- Film: Batman Forever\n",
                        "- Film: Batman Begins\n",
                        "- Film: Batman\n"
                    ]
                }
            ],
            "source": [
                "def get_movie_recommendations(movie_title):\n",
                "    # Encuentra el índice de la película en el DataFrame\n",
                "    movie_index = data_limpia[data_limpia[\"title\"] == movie_title].index[0]\n",
                "    # Utiliza el modelo de k-Nearest Neighbors (k-NN) para encontrar películas similares\n",
                "    distances, indices = model.kneighbors(tfidf_matrix[movie_index])\n",
                "     # Crea una lista de tuplas que contienen películas similares y sus distancias\n",
                "    similar_movies = [(data_limpia[\"title\"][i], distances[0][j]) for j, i in enumerate(indices[0])]\n",
                "    # Devuelve la lista de películas similares, excluyendo la primera (la misma película)\n",
                "    return similar_movies[1:]\n",
                "\n",
                "input_movie = \"The Dark Knight Rises\"\n",
                "recommendations = get_movie_recommendations(input_movie)\n",
                "print(\"Film recommendations '{}'\".format(input_movie))\n",
                "for movie, distance in recommendations:\n",
                "    print(\"- Film: {}\".format(movie))"
            ]
        },
        {
            "cell_type": "markdown",
            "metadata": {},
            "source": [
                "## Podemos determinar que el modelo tiene la capacidad de recomendar peliculas similares a la indicada.\n"
            ]
        }
    ],
    "metadata": {
        "kernelspec": {
            "display_name": "Python 3.8.13 64-bit ('3.8.13')",
            "language": "python",
            "name": "python3"
        },
        "language_info": {
            "codemirror_mode": {
                "name": "ipython",
                "version": 3
            },
            "file_extension": ".py",
            "mimetype": "text/x-python",
            "name": "python",
            "nbconvert_exporter": "python",
            "pygments_lexer": "ipython3",
            "version": "3.11.4"
        },
        "orig_nbformat": 4,
        "vscode": {
            "interpreter": {
                "hash": "110cc1dee26208153f2972f08a2ad52b6a56238dc66d48e87fb757ef2996db56"
            }
        }
    },
    "nbformat": 4,
    "nbformat_minor": 2
}
